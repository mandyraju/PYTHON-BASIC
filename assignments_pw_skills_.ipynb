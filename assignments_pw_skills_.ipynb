{
  "nbformat": 4,
  "nbformat_minor": 0,
  "metadata": {
    "colab": {
      "provenance": []
    },
    "kernelspec": {
      "name": "python3",
      "display_name": "Python 3"
    },
    "language_info": {
      "name": "python"
    }
  },
  "cells": [
    {
      "cell_type": "markdown",
      "source": [
        "theortical questions\n",
        "\n",
        "\n",
        "Q.1\n",
        "\n",
        "Ans: Python is a programming language. It is popular because it is easy to learn, can work on many platforms, and has vast libraries.\n",
        "\n",
        "Q.2\n",
        "\n",
        "Ans: An interpreter reads Python code line by line and executes it.\n",
        "\n",
        "Q.3\n",
        "\n",
        "Ans: Keywords like if, for, while, True, False, print. These are reserved words and cannot be used as variable names.\n",
        "\n",
        "Q.4\n",
        "\n",
        "Ans: no\n",
        "\n",
        "Q.5\n",
        "\n",
        "Ans: Mutable means we can change the value after we created it. For example, \"List\" is mutable.\n",
        "\n",
        "Q.6\n",
        "\n",
        "Ans: Lists are designed to change, add, or remove items, but tuples are fixed once created.\n",
        "\n",
        "Q.7\n",
        "\n",
        "Ans: == checks if values are the same. is checks if both are the same object in memory.\n",
        "\n",
        "Q.8\n",
        "\n",
        "Ans: and, or, not\n",
        "\n",
        "Q.9\n",
        "\n",
        "Ans: Changing one data type to another. For example, converting \"5\" to an integer 5.\n",
        "\n",
        "Q.10\n",
        "\n",
        "•\tImplicit:\n",
        "Python does it automatically (e.g., int to float)\n",
        "•\tExplicit:\n",
        "We do it using function like int() float()\n",
        "\n",
        "Q.11\n",
        "\n",
        "•\tAny to make decisions in our code based on conditions.\n",
        "\n",
        "Q.12\n",
        "\n",
        "•\tAny if checks another condition of the first if in rake.\n",
        "\n",
        "Q.13\n",
        "\n",
        "•\tWhile loop:\n",
        "Runs as long as a condition is true.\n",
        "•\tFor loop:\n",
        "Runs a set number of times.\n",
        "\n",
        "Q.14\n",
        "\n",
        "•\tE.g., keep asking a user for the correct password until they enter it right.\n"
      ],
      "metadata": {
        "id": "x7qRHCQ0Hmfe"
      }
    },
    {
      "cell_type": "code",
      "execution_count": null,
      "metadata": {
        "id": "FbimV_txHaVc"
      },
      "outputs": [],
      "source": [
        "#practical questions"
      ]
    },
    {
      "cell_type": "code",
      "source": [
        "#1 Write a Python program to print \"Hello, World!y\n",
        "print(\"hello world!\")"
      ],
      "metadata": {
        "colab": {
          "base_uri": "https://localhost:8080/"
        },
        "id": "dLtX6hHzBt_6",
        "outputId": "97c78fa7-30f5-499f-bdd8-8424d39f8d66"
      },
      "execution_count": null,
      "outputs": [
        {
          "output_type": "stream",
          "name": "stdout",
          "text": [
            "hello world!\n"
          ]
        }
      ]
    },
    {
      "cell_type": "code",
      "source": [
        "#2Write a Python program that displays your name and age\n",
        "name = input(\"enter your name\")\n",
        "age = int(input(\"enter your age\"))\n",
        "print(\"my name is:\", name)\n",
        "print(\"my age is:\", age)"
      ],
      "metadata": {
        "colab": {
          "base_uri": "https://localhost:8080/"
        },
        "id": "2odg8NX-QUSI",
        "outputId": "2c6f85cf-4e26-4c05-fbd2-d174978356e8"
      },
      "execution_count": null,
      "outputs": [
        {
          "output_type": "stream",
          "name": "stdout",
          "text": [
            "enter your namemandeep singh\n",
            "enter your age25\n",
            "my name is: mandeep singh\n",
            "my age is: 25\n"
          ]
        }
      ]
    },
    {
      "cell_type": "code",
      "source": [
        "from keyword import kwlist\n",
        "from collections.abc import KeysView\n",
        "#3 Write code to print all the pre-defined keywords in Python using the keyword library\n",
        "kwlist"
      ],
      "metadata": {
        "colab": {
          "base_uri": "https://localhost:8080/"
        },
        "id": "VRTgw6m5Q4Sx",
        "outputId": "bd3e0560-5e6e-4a33-bd9e-fdb59fc05c49"
      },
      "execution_count": null,
      "outputs": [
        {
          "output_type": "execute_result",
          "data": {
            "text/plain": [
              "['False',\n",
              " 'None',\n",
              " 'True',\n",
              " 'and',\n",
              " 'as',\n",
              " 'assert',\n",
              " 'async',\n",
              " 'await',\n",
              " 'break',\n",
              " 'class',\n",
              " 'continue',\n",
              " 'def',\n",
              " 'del',\n",
              " 'elif',\n",
              " 'else',\n",
              " 'except',\n",
              " 'finally',\n",
              " 'for',\n",
              " 'from',\n",
              " 'global',\n",
              " 'if',\n",
              " 'import',\n",
              " 'in',\n",
              " 'is',\n",
              " 'lambda',\n",
              " 'nonlocal',\n",
              " 'not',\n",
              " 'or',\n",
              " 'pass',\n",
              " 'raise',\n",
              " 'return',\n",
              " 'try',\n",
              " 'while',\n",
              " 'with',\n",
              " 'yield']"
            ]
          },
          "metadata": {},
          "execution_count": 13
        }
      ]
    },
    {
      "cell_type": "code",
      "source": [
        "#4Write a program that checks if a given word is a Python keyword\n",
        "word = input(\"enter a word:\")\n",
        "if word in kwlist:\n",
        "  print(f\"{word} is a python key word\")\n",
        "else:\n",
        "  print(f\"{word} is not a python key word\")"
      ],
      "metadata": {
        "colab": {
          "base_uri": "https://localhost:8080/"
        },
        "id": "m4kl2PTDTeBA",
        "outputId": "0a9b7aa3-b780-4e8e-d01e-1a875da0af56"
      },
      "execution_count": null,
      "outputs": [
        {
          "output_type": "stream",
          "name": "stdout",
          "text": [
            "enter a word:not\n",
            "not is a python key word\n"
          ]
        }
      ]
    },
    {
      "cell_type": "code",
      "source": [
        "#5Create a list and tuple in Python, and demonstrate how attempting to change an element works differently\n",
        "my_list = [1, 2, 4, 6]\n",
        "my_tuple = (1, 2, 4, 6,)"
      ],
      "metadata": {
        "id": "Nu66oQ8UWVxd"
      },
      "execution_count": null,
      "outputs": []
    },
    {
      "cell_type": "code",
      "source": [
        "my_list[2] = 100\n",
        "my_list"
      ],
      "metadata": {
        "colab": {
          "base_uri": "https://localhost:8080/"
        },
        "id": "eg4IErpcXu6a",
        "outputId": "deb799a2-9840-4581-a9b1-5afcc48cd84a"
      },
      "execution_count": null,
      "outputs": [
        {
          "output_type": "execute_result",
          "data": {
            "text/plain": [
              "[1, 2, 100, 6]"
            ]
          },
          "metadata": {},
          "execution_count": 24
        }
      ]
    },
    {
      "cell_type": "code",
      "source": [
        "my_tuple(2) = 100\n",
        "my_tuple"
      ],
      "metadata": {
        "colab": {
          "base_uri": "https://localhost:8080/",
          "height": 106
        },
        "id": "qjk1aZvsYED3",
        "outputId": "4a1db510-d854-4058-a938-7df391a0c7c0"
      },
      "execution_count": null,
      "outputs": [
        {
          "output_type": "error",
          "ename": "SyntaxError",
          "evalue": "cannot assign to function call here. Maybe you meant '==' instead of '='? (<ipython-input-25-318351111109>, line 1)",
          "traceback": [
            "\u001b[0;36m  File \u001b[0;32m\"<ipython-input-25-318351111109>\"\u001b[0;36m, line \u001b[0;32m1\u001b[0m\n\u001b[0;31m    my_tuple(2) = 100\u001b[0m\n\u001b[0m    ^\u001b[0m\n\u001b[0;31mSyntaxError\u001b[0m\u001b[0;31m:\u001b[0m cannot assign to function call here. Maybe you meant '==' instead of '='?\n"
          ]
        }
      ]
    },
    {
      "cell_type": "code",
      "source": [
        "''' Q5 Create a list and tuple in Python, and demonstrate how attempting to change an element works differently\n",
        "for each\n",
        "ans: Lists are mutable (elements can be changed).\n",
        "\n",
        "Tuples are immutable (elements cannot be changed)\n",
        "like in abvoe example\n",
        "'''\n",
        "\n"
      ],
      "metadata": {
        "id": "NumnR7nZYxcR"
      },
      "execution_count": null,
      "outputs": []
    },
    {
      "cell_type": "code",
      "source": [
        "#6. Write a function to demonstrate the behavior of mutable and immutable arguments\n",
        "def modify_list(lst):\n",
        "  lst.append('new item')\n",
        "\n",
        "def modify_integer(num):\n",
        "  num += 10\n",
        "\n"
      ],
      "metadata": {
        "id": "eT7mwwqEcDk_"
      },
      "execution_count": null,
      "outputs": []
    },
    {
      "cell_type": "code",
      "source": [
        "my_list = [1, 2, 3]\n",
        "my_num = 5\n",
        "\n",
        "modify_list(my_list)\n",
        "modify_integer(my_num)\n",
        "\n",
        "print(\"After modify_list:\", my_list)\n",
        "print(\"After modify_integer:\", my_num)"
      ],
      "metadata": {
        "colab": {
          "base_uri": "https://localhost:8080/"
        },
        "id": "fUa_3bvkdA5r",
        "outputId": "cddc4569-e847-4310-c3c8-ed1bb8efde99"
      },
      "execution_count": null,
      "outputs": [
        {
          "output_type": "stream",
          "name": "stdout",
          "text": [
            "After modify_list: [1, 2, 3, 'new item']\n",
            "After modify_integer: 5\n"
          ]
        }
      ]
    },
    {
      "cell_type": "code",
      "source": [
        "#7. Write a program that performs basic arithmetic operations on two user-input numbers.\n",
        "\n",
        "num1 = int(input(\"enteryour number:\"))\n",
        "num2 = int(input(\"enteryour number:\"))\n",
        "\n",
        "print(\"addition\", num1 + num2)\n",
        "print(\"subtraction\", num1 - num2)\n",
        "print(\"multiplication\", num1 * num2)\n",
        "print(\"division\", num1 / num2)"
      ],
      "metadata": {
        "colab": {
          "base_uri": "https://localhost:8080/"
        },
        "id": "MU4ph01UdVcB",
        "outputId": "118c7375-bfbf-4139-b9a7-80fd95f6473c"
      },
      "execution_count": null,
      "outputs": [
        {
          "output_type": "stream",
          "name": "stdout",
          "text": [
            "enteryour number:10\n",
            "enteryour number:20\n",
            "addition 30\n",
            "subtraction -10\n",
            "multiplication 200\n",
            "division 0.5\n"
          ]
        }
      ]
    },
    {
      "cell_type": "code",
      "source": [
        "#8. Write a program to demonstrate the use of logical operators.\n",
        "a = int(input(\"enter first number a:\"))\n",
        "b = int(input(\"enter second number b:\"))\n",
        "\n",
        "print(\"a > 0 and b > 0\", a > 0 and b > 0)\n",
        "print(\"a > 0 or b > 0\", a > 0 or b > 0)\n",
        "print(\"not(a > 0)\", not(a > 0))"
      ],
      "metadata": {
        "colab": {
          "base_uri": "https://localhost:8080/"
        },
        "id": "BArhi6stfix8",
        "outputId": "2fa7d362-24f7-4a70-ff30-4bbb5ef74afe"
      },
      "execution_count": null,
      "outputs": [
        {
          "output_type": "stream",
          "name": "stdout",
          "text": [
            "enter first number a:10\n",
            "enter second number b:12\n",
            "a > 0 and b > 0 True\n",
            "a > 0 or b > 0 True\n",
            "not(a > 0) False\n"
          ]
        }
      ]
    },
    {
      "cell_type": "code",
      "source": [
        "#9. Write a Python program to convert user input from string to integer, float, and boolean types.\n",
        "value = input(\" enter a value \")\n",
        "print(\"value\", value)"
      ],
      "metadata": {
        "colab": {
          "base_uri": "https://localhost:8080/"
        },
        "id": "A4YHyWPViFz2",
        "outputId": "c276e526-316a-48f0-cfa9-182027c1e0cf"
      },
      "execution_count": null,
      "outputs": [
        {
          "output_type": "stream",
          "name": "stdout",
          "text": [
            " enter a value 12\n",
            "value 12\n"
          ]
        }
      ]
    },
    {
      "cell_type": "code",
      "source": [
        "type(value)"
      ],
      "metadata": {
        "colab": {
          "base_uri": "https://localhost:8080/"
        },
        "id": "EbMoi_HgiyL0",
        "outputId": "a8c2984f-241b-48c3-bcdb-9acbed3346b6"
      },
      "execution_count": null,
      "outputs": [
        {
          "output_type": "execute_result",
          "data": {
            "text/plain": [
              "str"
            ]
          },
          "metadata": {},
          "execution_count": 43
        }
      ]
    },
    {
      "cell_type": "code",
      "source": [
        "#convert to integer\n",
        "value = int(value)\n",
        "print(\"value\", value)"
      ],
      "metadata": {
        "colab": {
          "base_uri": "https://localhost:8080/"
        },
        "id": "kCvHt8h5j63E",
        "outputId": "91b4bc23-fa06-4fc4-84b0-0c04b30c8ebc"
      },
      "execution_count": null,
      "outputs": [
        {
          "output_type": "stream",
          "name": "stdout",
          "text": [
            "value 12\n"
          ]
        }
      ]
    },
    {
      "cell_type": "code",
      "source": [
        "type(value)"
      ],
      "metadata": {
        "colab": {
          "base_uri": "https://localhost:8080/"
        },
        "id": "0tevKeOBkU_6",
        "outputId": "46fac5c6-fef1-42af-be6e-77516ae146f2"
      },
      "execution_count": null,
      "outputs": [
        {
          "output_type": "execute_result",
          "data": {
            "text/plain": [
              "int"
            ]
          },
          "metadata": {},
          "execution_count": 47
        }
      ]
    },
    {
      "cell_type": "code",
      "source": [
        "#float vlaue\n",
        "value = float(value)\n",
        "print(\"value\", float)"
      ],
      "metadata": {
        "colab": {
          "base_uri": "https://localhost:8080/"
        },
        "id": "jauy9vHRkYr-",
        "outputId": "40bc3717-5242-4fc9-b1d0-7a391ac9e49e"
      },
      "execution_count": null,
      "outputs": [
        {
          "output_type": "stream",
          "name": "stdout",
          "text": [
            "value <class 'float'>\n"
          ]
        }
      ]
    },
    {
      "cell_type": "code",
      "source": [
        "type(value)"
      ],
      "metadata": {
        "colab": {
          "base_uri": "https://localhost:8080/"
        },
        "id": "0UFuxweVlSMP",
        "outputId": "6b67d3aa-6abc-45c1-f34a-bcd76425e043"
      },
      "execution_count": null,
      "outputs": [
        {
          "output_type": "execute_result",
          "data": {
            "text/plain": [
              "float"
            ]
          },
          "metadata": {},
          "execution_count": 56
        }
      ]
    },
    {
      "cell_type": "code",
      "source": [
        "#10. Write code to demonstrate type casting with list elements.\n",
        "my_list = ['2', '3', '4', '5', 'hello']\n",
        "print(my_list)"
      ],
      "metadata": {
        "colab": {
          "base_uri": "https://localhost:8080/"
        },
        "id": "kmC7WAAll0CF",
        "outputId": "ed30da50-61dd-468f-daae-1ae79c887581"
      },
      "execution_count": null,
      "outputs": [
        {
          "output_type": "stream",
          "name": "stdout",
          "text": [
            "['2', '3', '4', '5', 'hello']\n"
          ]
        }
      ]
    },
    {
      "cell_type": "code",
      "source": [
        "my_list[2] = int(my_list[2])\n",
        "print(my_list)"
      ],
      "metadata": {
        "colab": {
          "base_uri": "https://localhost:8080/"
        },
        "id": "4BVp3TBdmnO9",
        "outputId": "1bc07eef-2176-4b04-97ff-8c6b1923f620"
      },
      "execution_count": null,
      "outputs": [
        {
          "output_type": "stream",
          "name": "stdout",
          "text": [
            "['2', '3', 4, '5', 'hello']\n"
          ]
        }
      ]
    },
    {
      "cell_type": "code",
      "source": [
        "my_list[2]"
      ],
      "metadata": {
        "colab": {
          "base_uri": "https://localhost:8080/"
        },
        "id": "QZKGTJZpmqlM",
        "outputId": "9bb6d7a7-0462-4c75-dafd-2ef16d688d4b"
      },
      "execution_count": null,
      "outputs": [
        {
          "output_type": "execute_result",
          "data": {
            "text/plain": [
              "4"
            ]
          },
          "metadata": {},
          "execution_count": 3
        }
      ]
    },
    {
      "cell_type": "code",
      "source": [
        "type(my_list[2])"
      ],
      "metadata": {
        "colab": {
          "base_uri": "https://localhost:8080/"
        },
        "id": "yBuyYj50osPP",
        "outputId": "d0338cde-55cc-48e5-93b3-fd09eec7464d"
      },
      "execution_count": null,
      "outputs": [
        {
          "output_type": "execute_result",
          "data": {
            "text/plain": [
              "int"
            ]
          },
          "metadata": {},
          "execution_count": 4
        }
      ]
    },
    {
      "cell_type": "code",
      "source": [
        "type(my_list[3])"
      ],
      "metadata": {
        "colab": {
          "base_uri": "https://localhost:8080/"
        },
        "id": "9M3nDEVvowT5",
        "outputId": "4157b025-dcc1-4c30-a41b-387a919fa2da"
      },
      "execution_count": null,
      "outputs": [
        {
          "output_type": "execute_result",
          "data": {
            "text/plain": [
              "str"
            ]
          },
          "metadata": {},
          "execution_count": 5
        }
      ]
    },
    {
      "cell_type": "code",
      "source": [
        "#11 Write a program that checks if a number is positive, negative, or zero.\n",
        "a = 8\n",
        "\n",
        "if(a > 0):\n",
        "  print(\"positive\")\n",
        "elif(a < 0):\n",
        "  print(\"negative\")\n",
        "else:\n",
        "  print(\"zero\")"
      ],
      "metadata": {
        "colab": {
          "base_uri": "https://localhost:8080/"
        },
        "id": "TA0lLLnwo4NT",
        "outputId": "608e21a9-5049-41a2-c7ac-0679e464aa43"
      },
      "execution_count": null,
      "outputs": [
        {
          "output_type": "stream",
          "name": "stdout",
          "text": [
            "positive\n"
          ]
        }
      ]
    },
    {
      "cell_type": "code",
      "source": [
        "a = -7\n",
        "if(a > 0):\n",
        "  print(\"positive\")\n",
        "elif(a < 0):\n",
        "  print(\"negative\")\n",
        "else:\n",
        "  print(\"zero\")"
      ],
      "metadata": {
        "colab": {
          "base_uri": "https://localhost:8080/"
        },
        "id": "Knvw793XswaY",
        "outputId": "4fb8be87-fac6-4f76-e3f7-beac8370a42c"
      },
      "execution_count": null,
      "outputs": [
        {
          "output_type": "stream",
          "name": "stdout",
          "text": [
            "negative\n"
          ]
        }
      ]
    },
    {
      "cell_type": "code",
      "source": [
        "#12. Write a for loop to print numbers from 1 to 10.\n",
        "for i in range(1,11):\n",
        "  print(i)\n",
        "  i += 1\n",
        "\n"
      ],
      "metadata": {
        "colab": {
          "base_uri": "https://localhost:8080/"
        },
        "id": "JT_IW00Ks5AS",
        "outputId": "8447bbe4-4383-4559-d93c-b1ae933c93c7"
      },
      "execution_count": null,
      "outputs": [
        {
          "output_type": "stream",
          "name": "stdout",
          "text": [
            "1\n",
            "2\n",
            "3\n",
            "4\n",
            "5\n",
            "6\n",
            "7\n",
            "8\n",
            "9\n",
            "10\n"
          ]
        }
      ]
    },
    {
      "cell_type": "code",
      "source": [
        "#13. Write a Python program to find the sum of all even numbers between 1 and 50.\n",
        "even_sum = 0\n",
        "for i in range(1,51):\n",
        "  if(i % 2 == 0):\n",
        "    even_sum += i\n",
        "    print(\"print of even number:\", even_sum)\n"
      ],
      "metadata": {
        "colab": {
          "base_uri": "https://localhost:8080/"
        },
        "id": "zMMhrN0ow7v1",
        "outputId": "237f9b3d-5baf-45c4-b237-03916d3ffd7c"
      },
      "execution_count": null,
      "outputs": [
        {
          "output_type": "stream",
          "name": "stdout",
          "text": [
            "print of even number: 2\n",
            "print of even number: 6\n",
            "print of even number: 12\n",
            "print of even number: 20\n",
            "print of even number: 30\n",
            "print of even number: 42\n",
            "print of even number: 56\n",
            "print of even number: 72\n",
            "print of even number: 90\n",
            "print of even number: 110\n",
            "print of even number: 132\n",
            "print of even number: 156\n",
            "print of even number: 182\n",
            "print of even number: 210\n",
            "print of even number: 240\n",
            "print of even number: 272\n",
            "print of even number: 306\n",
            "print of even number: 342\n",
            "print of even number: 380\n",
            "print of even number: 420\n",
            "print of even number: 462\n",
            "print of even number: 506\n",
            "print of even number: 552\n",
            "print of even number: 600\n",
            "print of even number: 650\n"
          ]
        }
      ]
    },
    {
      "cell_type": "code",
      "source": [
        "#14 Write a program to reverse a string using a while loop.\n",
        "# Program to reverse a string using a while loop\n",
        "\n",
        "\n",
        "input_str = input(\"Enter a string: \")\n",
        "\n",
        "reversed_str = \"\"\n",
        "index = len(input_str) - 1\n",
        "\n",
        "while index >= 0:\n",
        "    reversed_str += input_str[index]\n",
        "    index -= 1\n",
        "\n",
        "print(\"Reversed string:\", reversed_str)\n"
      ],
      "metadata": {
        "colab": {
          "base_uri": "https://localhost:8080/"
        },
        "id": "GUgGdLDuyhCL",
        "outputId": "621547c6-cd3f-459f-bc0a-79fc3df9793e"
      },
      "execution_count": null,
      "outputs": [
        {
          "output_type": "stream",
          "name": "stdout",
          "text": [
            "Enter a string: hello\n",
            "Reversed string: olleh\n"
          ]
        }
      ]
    },
    {
      "cell_type": "code",
      "source": [
        "#15 Write a Python program to calculate the factorial of a number provided by the user using a while loop.\n",
        "# Python program to calculate the factorial of a number using a while loop\n",
        "\n",
        "\n",
        "num = int(input(\"Enter a non-negative integer: \"))\n",
        "\n",
        "factorial = 1\n",
        "n = num\n",
        "\n",
        "while n > 1:\n",
        "    factorial *= n\n",
        "    n -= 1\n",
        "\n",
        "print(f\"Factorial of {num} is: {factorial}\")\n"
      ],
      "metadata": {
        "colab": {
          "base_uri": "https://localhost:8080/"
        },
        "id": "vFmRGIt52u4i",
        "outputId": "c05da42e-d4e2-412d-8317-8f455551cf92"
      },
      "execution_count": null,
      "outputs": [
        {
          "output_type": "stream",
          "name": "stdout",
          "text": [
            "Enter a non-negative integer: 5\n",
            "Factorial of 5 is: 120\n"
          ]
        }
      ]
    }
  ]
}
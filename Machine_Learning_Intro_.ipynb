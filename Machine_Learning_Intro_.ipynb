{
  "nbformat": 4,
  "nbformat_minor": 0,
  "metadata": {
    "colab": {
      "provenance": []
    },
    "kernelspec": {
      "name": "python3",
      "display_name": "Python 3"
    },
    "language_info": {
      "name": "python"
    }
  },
  "cells": [
    {
      "cell_type": "markdown",
      "source": [
        "Theory question and answer\n",
        "\n",
        "Question 1: Explain the differences between AI, ML, Deep Learning (DL), and Data Science (DS).\n",
        "\n",
        "Answer: Artificial Intelligence (AI):\n",
        "\n",
        "AI is the broadest concept. It means making computers or machines that can perform tasks usually requiring human intelligence, like playing chess, understanding speech, or recommending products.\n",
        "\n",
        "Machine Learning (ML):\n",
        "\n",
        "ML is a subset of AI. Instead of programming rules, ML lets computers “learn” from data to make predictions or decisions. Example: Email spam filter that learns what’s spam from examples.\n",
        "\n",
        "Deep Learning (DL):\n",
        "\n",
        "DL is a subset of ML that uses multi-layered neural networks (like a web of “virtual neurons”) to learn from lots of complex data, especially unstructured data like images or sound. Example: Face recognition on smartphones.\n",
        "\n",
        "Data Science (DS):\n",
        "\n",
        "DS includes not just AI/ML but also statistics, data analysis, and visualization to extract insights from data. Data Scientists often use ML, but also do data cleaning, visualization, and reporting.\n",
        "\n",
        "\n",
        "\n",
        "\n",
        "Question 2: : What are the types of machine learning? Describe each with one real-world example.\n",
        "\n",
        "1.\tAnswer: Supervised Learning\n",
        "\n",
        "•\tThe machine learns from labeled data (the answer is given).\n",
        "•\tExample: Predicting house prices given past sales records, where each record includes the price (label).\n",
        "\n",
        "2.\tUnsupervised Learning\n",
        "\n",
        "\n",
        "•\tThe machine finds patterns in unlabeled data (no answers given).\n",
        "•\tExample: Grouping customers into segments based on their shopping habits (clustering).\n",
        "\n",
        "3.\tReinforcement Learning\n",
        "\n",
        "•\tThe machine learns by trial and error, getting rewards or penalties.\n",
        "•\tExample: An AI playing a game like chess or a robot learning to walk.\n",
        "\n",
        "\n",
        "\n",
        "Question 3: Define overfitting, underfitting, and the bias-variance tradeoff in machine learning.\n",
        "\n",
        "Answer:\n",
        "\n",
        "•\tOverfitting:\n",
        "\n",
        "The model learns the training data too well, including noise and outliers. It performs great on training data but poorly on new, unseen data.\n",
        "Example: Memorizing practice questions instead of learning the concepts.\n",
        "\n",
        "•\tUnderfitting:\n",
        "\n",
        "The model is too simple and fails to capture patterns in the data, leading to poor performance on both training and new data.\n",
        "Example: Guessing all answers are \"B\" on a test because you didn’t study at all.\n",
        "\n",
        "•\tBias-Variance Tradeoff:\n",
        "\n",
        "We want our model to be just right—not too simple (high bias, underfits) and not too complex (high variance, overfits). The best model balances bias (error due to simplifying assumptions) and variance (error due to sensitivity to small fluctuations in training data).\n",
        "\n",
        "\n",
        "\n",
        "\n",
        "\n",
        "Question 4: What are outliers in a dataset, and list three common techniques for handling them.\n",
        "\n",
        "Answer:\n",
        "\n",
        "•\t Outliers:\n",
        "\n",
        "Outliers are data points that are far away from other points and look unusual or unexpected.\n",
        "\n",
        "Example:\n",
        "\n",
        " If most people in a company earn $30k–$60k but one gets $1,000,000, that's an outlier.\n",
        "\n",
        "•\tHandling Techniques:\n",
        "\n",
        "1.\tRemove outliers: Delete extreme points after verifying they are errors or irrelevant.\n",
        "2.\tTransform data: Apply log or square root to reduce the impact.\n",
        "3.\tImputation: Replace outlier with median or mean of the data.\n",
        "\n",
        "\n",
        ".\n",
        "\n",
        "\n",
        "Question 5: Explain the process of handling missing values and mention one imputation technique for numerical and one for categorical data\n",
        "\n",
        "answer\n",
        "\n",
        "Process:\n",
        "\n",
        "1.\tDetect missing values (NaN, empty, etc.).\n",
        "2.\tAnalyze why data is missing.\n",
        "3.\tDecide whether to drop or fill them.\n",
        "\n",
        "Imputation Techniques:\n",
        "\n",
        "•\tNumerical: Fill missing numbers with the column mean or median.\n",
        "Example: Replace empty ages with the average age.\n",
        "•\tCategorical: Fill missing categories with the most frequent value (mode).\n",
        "Example: Replace missing payment method with the most common method.\n"
      ],
      "metadata": {
        "id": "lyYM7gxOg1jg"
      }
    },
    {
      "cell_type": "code",
      "execution_count": 20,
      "metadata": {
        "id": "vA32Mqp-bRcR",
        "colab": {
          "base_uri": "https://localhost:8080/"
        },
        "outputId": "4863c572-607a-4611-c3b7-e2d80cfe1c59"
      },
      "outputs": [
        {
          "output_type": "stream",
          "name": "stdout",
          "text": [
            "Class distribution: Counter({np.int64(0): 896, np.int64(1): 104})\n",
            "Class 0: 896 samples (89.60%)\n",
            "Class 1: 104 samples (10.40%)\n"
          ]
        }
      ],
      "source": [
        "#Question 6: Write a Python program that:\n",
        "#● Creates a synthetic imbalanced dataset with make_classification() from\n",
        "#sklearn.datasets.\n",
        "#● Prints the class distribution\n",
        "\n",
        "#answer\n",
        "\n",
        "from sklearn.datasets import make_classification\n",
        "import numpy as np\n",
        "from collections import Counter\n",
        "\n",
        "X, y = make_classification(\n",
        "    n_samples=1000,\n",
        "    n_features=10,\n",
        "    n_informative=5,\n",
        "    n_redundant=2,\n",
        "    n_clusters_per_class=1,\n",
        "    weights=[0.9, 0.1],\n",
        "    random_state=42\n",
        ")\n",
        "\n",
        "\n",
        "class_distribution = Counter(y)\n",
        "print(\"Class distribution:\", class_distribution)\n",
        "\n",
        "\n",
        "for cls, count in class_distribution.items():\n",
        "    print(f\"Class {cls}: {count} samples ({count/len(y)*100:.2f}%)\")\n"
      ]
    },
    {
      "cell_type": "code",
      "source": [
        "#Question 7: Implement one-hot encoding using pandas for the following list of colors:\n",
        "#['Red', 'Green', 'Blue', 'Green', 'Red']. Print the resulting dataframe.\n",
        "\n",
        "\n",
        "#Answer\n",
        "import pandas as pd\n",
        "\n",
        "colors = ['Red', 'Green', 'Blue', 'Green', 'Red']\n",
        "df = pd.DataFrame({'Color': colors})\n",
        "one_hot = pd.get_dummies(df, columns=['Color'])\n",
        "print(one_hot)\n"
      ],
      "metadata": {
        "id": "PpOnP2MUb6mF",
        "colab": {
          "base_uri": "https://localhost:8080/"
        },
        "outputId": "fcbba711-8892-4b33-bd76-198be2ef80bb"
      },
      "execution_count": 11,
      "outputs": [
        {
          "output_type": "stream",
          "name": "stdout",
          "text": [
            "   Color_Blue  Color_Green  Color_Red\n",
            "0       False        False       True\n",
            "1       False         True      False\n",
            "2        True        False      False\n",
            "3       False         True      False\n",
            "4       False        False       True\n"
          ]
        }
      ]
    },
    {
      "cell_type": "code",
      "source": [
        "#Question 8: Write a Python script to:\n",
        "#● Generate 1000 samples from a normal distribution.\n",
        "#● Introduce 50 random missing values.\n",
        "#● Fill missing values with the column mean.\n",
        "#● Plot a histogram before and after imputation.\n",
        "\n",
        "\n",
        "#Answer\n",
        "\n",
        "import numpy as np\n",
        "import matplotlib.pyplot as plt\n",
        "\n",
        "np.random.seed(0)\n",
        "data = np.random.normal(loc=0, scale=1, size=1000)\n",
        "missing_indices = np.random.choice(1000, 50, replace=False)\n",
        "data_with_nan = data.copy()\n",
        "data_with_nan[missing_indices] = np.nan\n",
        "\n",
        "plt.hist(data_with_nan[~np.isnan(data_with_nan)], bins=30, color='gray', alpha=0.7)\n",
        "plt.title('Before Imputation')\n",
        "plt.show()\n",
        "\n",
        "# Impute missing with mean\n",
        "mean_val = np.nanmean(data_with_nan)\n",
        "data_imputed = np.where(np.isnan(data_with_nan), mean_val, data_with_nan)\n",
        "\n",
        "plt.hist(data_imputed, bins=30, color='skyblue', alpha=0.7)\n",
        "plt.title('After Imputation (Mean)')\n",
        "plt.show()\n"
      ],
      "metadata": {
        "id": "oLof0bXbb9rE",
        "colab": {
          "base_uri": "https://localhost:8080/",
          "height": 887
        },
        "outputId": "679c8745-c74e-4eef-c0ad-926fd00428ea"
      },
      "execution_count": 12,
      "outputs": [
        {
          "output_type": "display_data",
          "data": {
            "text/plain": [
              "<Figure size 640x480 with 1 Axes>"
            ],
            "image/png": "[encoded data removed]"
          },
          "metadata": {}
        },
        {
          "output_type": "display_data",
          "data": {
            "text/plain": [
              "<Figure size 640x480 with 1 Axes>"
            ],
            "image/png": "[encoded data removed]"
          },
          "metadata": {}
        }
      ]
    },
    {
      "cell_type": "code",
      "source": [
        "#Question 9: Implement Min-Max scaling on the following list of numbers [2, 5, 10, 15,\n",
        "#20] using sklearn.preprocessing.MinMaxScaler. Print the scaled array.\n",
        "\n",
        "#Answer\n",
        "from sklearn.preprocessing import MinMaxScaler\n",
        "import numpy as np\n",
        "data = np.array([2, 5, 10, 15, 20]).reshape(-1, 1)\n",
        "scaler = MinMaxScaler()\n",
        "scaled_data = scaler.fit_transform(data)\n",
        "\n",
        "print(\"Original data:\\n\", data.ravel())\n",
        "print(\"Scaled data:\\n\", scaled_data.ravel())\n"
      ],
      "metadata": {
        "id": "IL6nfewpcJlE",
        "colab": {
          "base_uri": "https://localhost:8080/"
        },
        "outputId": "85faccc6-fe6e-4d31-853d-336156438398"
      },
      "execution_count": 25,
      "outputs": [
        {
          "output_type": "stream",
          "name": "stdout",
          "text": [
            "Original data:\n",
            " [ 2  5 10 15 20]\n",
            "Scaled data:\n",
            " [0.         0.16666667 0.44444444 0.72222222 1.        ]\n"
          ]
        }
      ]
    },
    {
      "cell_type": "code",
      "source": [
        "#Question 10: You are working as a data scientist for a retail company. You receive a customer\n",
        "#transaction dataset that contains:\n",
        "#● Outliers in transaction amount,\n",
        "#● A highly imbalanced target (fraud vs. non-fraud),\n",
        "#● Categorical variables like payment method.\n",
        "#Explain the step-by-step data preparation plan you’d follow before training a machine learning\n",
        "#model. Include how you’d address missing data, outliers, imbalance, and encoding.\n",
        "\n",
        "#Answer\n",
        "'''Step-by-Step:\n",
        "\n",
        "Handle missing ages:\n",
        "\n",
        "Impute missing with median age (less affected by outliers).\n",
        "\n",
        "Handle outliers in transaction amount:\n",
        "\n",
        "Use boxplots or IQR to detect.\n",
        "\n",
        "Cap/floor outliers or replace with median value.\n",
        "\n",
        "Handle imbalanced target (fraud vs. non-fraud):\n",
        "\n",
        "Resample: oversample minority (fraud) or undersample majority.\n",
        "\n",
        "Or, use advanced techniques like SMOTE.\n",
        "\n",
        "Encode categorical variables:\n",
        "\n",
        "Use one-hot encoding for payment methods and any other categorical features.'''\n",
        "\n",
        "import numpy as np\n",
        "import pandas as pd\n",
        "from sklearn.model_selection import train_test_split\n",
        "from sklearn.impute import SimpleImputer\n",
        "from sklearn.preprocessing import OneHotEncoder, RobustScaler, FunctionTransformer\n",
        "from sklearn.compose import ColumnTransformer\n",
        "from sklearn.pipeline import Pipeline\n",
        "from imblearn.over_sampling import SMOTE\n",
        "from imblearn.pipeline import Pipeline as ImbPipeline\n",
        "from sklearn.ensemble import RandomForestClassifier\n",
        "from sklearn.metrics import classification_report\n",
        "from collections import Counter\n",
        "\n",
        "# Example synthetic dataset\n",
        "np.random.seed(42)\n",
        "data = pd.DataFrame({\n",
        "    \"age\": np.random.choice([25, 30, 35, np.nan], size=500, p=[0.3, 0.3, 0.2, 0.2]),\n",
        "    \"amount\": np.concatenate([np.random.normal(50, 10, 480), np.random.normal(500, 50, 20)]),\n",
        "    \"payment_method\": np.random.choice([\"card\", \"upi\", \"netbanking\", np.nan], size=500),\n",
        "    \"fraud\": np.random.choice([0, 1], size=500, p=[0.95, 0.05])  # imbalanced\n",
        "})\n",
        "\n",
        "X = data.drop(\"fraud\", axis=1)\n",
        "y = data[\"fraud\"]\n",
        "\n",
        "# Train-test split\n",
        "X_train, X_test, y_train, y_test = train_test_split(\n",
        "    X, y, test_size=0.2, stratify=y, random_state=42\n",
        ")\n",
        "\n",
        "# Define feature groups\n",
        "numeric_features = [\"age\", \"amount\"]\n",
        "categorical_features = [\"payment_method\"]\n",
        "\n",
        "# Numeric pipeline: impute -> log transform -> scale\n",
        "numeric_transformer = Pipeline([\n",
        "    (\"imputer\", SimpleImputer(strategy=\"median\")),\n",
        "    (\"log\", FunctionTransformer(np.log1p, validate=False)),\n",
        "    (\"scaler\", RobustScaler())\n",
        "])\n",
        "\n",
        "# Categorical pipeline: impute -> one-hot encode\n",
        "categorical_transformer = Pipeline([\n",
        "    (\"imputer\", SimpleImputer(strategy=\"constant\", fill_value=\"MISSING\")),\n",
        "    (\"onehot\", OneHotEncoder(handle_unknown=\"ignore\"))\n",
        "])\n",
        "\n",
        "# Preprocessor\n",
        "preprocessor = ColumnTransformer([\n",
        "    (\"num\", numeric_transformer, numeric_features),\n",
        "    (\"cat\", categorical_transformer, categorical_features)\n",
        "])\n",
        "\n",
        "# Full pipeline with SMOTE for imbalance\n",
        "pipeline = ImbPipeline([\n",
        "    (\"preprocess\", preprocessor),\n",
        "    (\"smote\", SMOTE(random_state=42)),\n",
        "    (\"clf\", RandomForestClassifier(n_estimators=200, class_weight=\"balanced\", random_state=42))\n",
        "])\n",
        "\n",
        "# Fit and evaluate\n",
        "pipeline.fit(X_train, y_train)\n",
        "y_pred = pipeline.predict(X_test)\n",
        "\n",
        "print(\"Class distribution before resampling:\", Counter(y_train))\n",
        "print(\"\\nClassification Report:\\n\", classification_report(y_test, y_pred))"
      ],
      "metadata": {
        "colab": {
          "base_uri": "https://localhost:8080/"
        },
        "id": "pr5w3pU3cUVn",
        "outputId": "18e5767e-86ad-48ce-901a-96a818a95c5c"
      },
      "execution_count": 23,
      "outputs": [
        {
          "output_type": "stream",
          "name": "stdout",
          "text": [
            "Class distribution before resampling: Counter({0: 376, 1: 24})\n",
            "\n",
            "Classification Report:\n",
            "               precision    recall  f1-score   support\n",
            "\n",
            "           0       0.94      0.87      0.91        94\n",
            "           1       0.08      0.17      0.11         6\n",
            "\n",
            "    accuracy                           0.83       100\n",
            "   macro avg       0.51      0.52      0.51       100\n",
            "weighted avg       0.89      0.83      0.86       100\n",
            "\n"
          ]
        }
      ]
    },
    {
      "cell_type": "code",
      "source": [],
      "metadata": {
        "id": "DUh32gQAdd1Z"
      },
      "execution_count": null,
      "outputs": []
    }
  ]
}
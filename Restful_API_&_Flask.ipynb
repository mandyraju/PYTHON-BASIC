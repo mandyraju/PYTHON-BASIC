{
  "nbformat": 4,
  "nbformat_minor": 0,
  "metadata": {
    "colab": {
      "provenance": []
    },
    "kernelspec": {
      "name": "python3",
      "display_name": "Python 3"
    },
    "language_info": {
      "name": "python"
    }
  },
  "cells": [
    {
      "cell_type": "markdown",
      "source": [
        "theory questions and answers\n",
        "\n",
        "Q1. What is a RESTful API?\n",
        "\n",
        "ans. A RESTful API is an application programming interface that follows the principles of Representational State Transfer (REST). It enables communication between systems over the internet by using standard HTTP methods (like GET POST, PUT, DELETE) to manipulate resources, which are often represented in JSON or XML.\n",
        "\n",
        "Q2.Explain the concept of API specification\n",
        "\n",
        "Ans. An API specification acts as a blueprint for an API. It provides a comprehensive, technical description of the API’s operations, endpoints, expected inputs and outputs, error codes, and data models. API specifications are usually written in machine-readable formats (such as OpenAPI/Swagger) and are essential for guiding implementation and ensuring consistency.\n",
        "\n",
        "Q3. What is Flask, and why is it popular for building APIs?\n",
        "\n",
        "Ans. Flask is a lightweight web framework in Python that’s known for its simplicity and flexibility. It’s popular for API building because it allows for easy routing, modularity, and integration with extensions (like Flask-SQLAlchemy for databases). Flask’s minimalism makes it fast to set up and easy to customize for both small and large projects.\n",
        "\n",
        "Q4. What is routing in Flask?\n",
        "Ans. Routing in Flask is the process of defining how URLs are mapped to Python functions. Using the @app.route() decorator, developers can specify which function should handle which URL path, and optionally, which HTTP methods are allowed for each route.\n",
        "\n",
        "Q5. How do you create a simple Flask application?\n",
        "ans.\n",
        "To create a simple Flask app:\n",
        "\n",
        "from flask import Flask\n",
        "\n",
        "app = Flask(__name__)\n",
        "\n",
        "@app.route(\"/\")\n",
        "\n",
        "def hello():\n",
        "\n",
        "Run the server using flask run in your terminal after setting the appropriate environment variable.\n",
        "\n",
        "Q6. What are HTTP methods used in RESTful API?\n",
        "Ans. Common HTTP methods used in RESTful APIs include:\n",
        "\n",
        "GET: Retrieve data\n",
        "\n",
        "POST: Create data\n",
        "\n",
        "PUT: Update/replace data\n",
        "\n",
        "PATCH: Modify part of data\n",
        "\n",
        "DELETE: Remove data\n",
        "\n",
        "Others include HEAD, OPTIONS, TRACE, and CONNECT.\n",
        "\n",
        "Q7. What is the purpose of the @app.route() decorator in Flask?\n",
        "\n",
        "Ans. The @app.route() decorator in Flask links a URL path to a Python function, turning it into a view handler for that route. It can also specify which HTTP methods (GET, POST, etc.) the route accepts.\n",
        "\n",
        "Q8. What is the difference between GET and POST HTTP methods?\n",
        "\n",
        "Ans. GET: Retrieves data from the server. It’s safe, idempotent, and request parameters are sent in the URL.\n",
        "\n",
        "POST: Sends data to the server to create resources or perform actions. The data is sent in the request body and is not idempotent.\n",
        "\n",
        "Q9. How do you handle errors in Flask API?\n",
        "\n",
        "Ans. Flask allows custom error handlers using the @app.errorhandler decorator. For example:\n",
        "\n",
        "@app.errorhandler(404)\n",
        "def not_found(e):\n",
        "    return jsonify(error=\"Not found\"), 404\n",
        "\n",
        "Q10. How do you connect Flask to a SQL database?\n",
        "\n",
        "Ans. You can connect Flask to a SQL database using libraries like Flask-SQLAlchemy. First, install the extension, configure your database URI, and then use the provided ORM to interact with tables.\n",
        "\n",
        "Q12. What is the role of Flask-SQLAlchemy?\n",
        "\n",
        "Flask-SQLAlchemy is an extension that integrates SQLAlchemy ORM with Flask. It simplifies database connections, queries, and management using Python classes and objects.\n",
        "\n",
        "Q13. What are Flask blueprints, and how are they useful?\n",
        "\n",
        "Ans. Flask blueprints are a way to organize and group related routes, templates, and static files into reusable components. They encourage modularity, especially in larger applications.\n",
        "\n",
        "Q14. What is the purpose of Flask's request object?\n",
        "\n",
        "Ans. Flask’s request object gives access to HTTP request information such as method, headers, body, query parameters, and form data for processing incoming data in your route functions.\n",
        "\n",
        "Q15. How do you create a RESTful API endpoint using Flask?\n",
        "\n",
        "Ans. Define a route using @app.route(), specify the methods, and implement logic:\n",
        "Ans.\n",
        "@app.route('/items', methods=['GET'])\n",
        "def get_items():\n",
        "  pass\n",
        "Q16.What is the purpose of Flask's jsonify() function?\n",
        "\n",
        "Ans. The jsonify() function formats and returns a valid JSON response with the correct Content-Type. It safely serializes Python dicts and lists for API responses.\n",
        "\n",
        "Q17. Explain Flask’s url_for() function\n",
        "\n",
        "Ans., url_for() builds dynamic URLs for endpoints using their function names, making your app more maintainable:\n",
        "\n",
        "Q18. How does Flask handle static files (CSS, JavaScript, etc.)?\n",
        "\n",
        "Ans. Flask serves static files from a /static directory inside your project. You access them in templates using url_for('static', filename='style.css').\n",
        "\n",
        "Q19. What is an API specification, and how does it help in building a Flask API?\n",
        "\n",
        "Ans. An API specification details every aspect of your API (endpoints, methods, data types, responses), serving as a guide for both developers and auto-generated documentation/tools. It ensures everyone interacts with the API as intended.\n",
        "\n",
        "Q20. What are HTTP status codes, and why are they important in a Flask API?\n",
        "\n",
        "Ans. HTTP status codes are standardized responses that indicate the outcome of an HTTP request (e.g., 200 for success, 404 for not found, 500 for server error). They help clients understand the result of their requests and handle errors properly.\n",
        "\n",
        "Q21. How do you handle POST requests in Flask?\n",
        "\n",
        "Ans. Define a route accepting POST:\n",
        "\n",
        "@app.route('/item', methods=['POST'])\n",
        "def create_item():\n",
        "   data = request.get_json()\n",
        "   \n",
        "   return jsonify(result=\"Item created\"), 201\n",
        "Q22. How would you secure a Flask API?\n",
        "\n",
        "ans. Security practices include:\n",
        "\n",
        "Validating and sanitizing user inputs\n",
        "\n",
        "Using HTTPS\n",
        "\n",
        "Implementing authentication (e.g., JWT, OAuth)\n",
        "\n",
        "Setting proper CORS policies\n",
        "\n",
        "Rate limiting\n",
        "\n",
        "Avoiding sensitive data in GET requests\n",
        "\n",
        "Q23. What is the significance of the Flask-RESTful extension?\n",
        "\n",
        "Ans. Flask-RESTful is an extension that simplifies building REST APIs by providing class-based resources, automatic request parsing, and integration with Flask, making APIs more readable and maintainable.\n",
        "\n",
        "Q24. What is the role of Flask’s session object?\n",
        "\n",
        "Ans. The session object stores data across requests for a user by using signed cookies. It’s useful for tracking user state, authentication status, and small pieces of data between requests."
      ],
      "metadata": {
        "id": "56R8MUpjpnzZ"
      }
    },
    {
      "cell_type": "code",
      "source": [
        "#practical questios and answers\n",
        "#Q1.DM How do you create a basic Flask application\n",
        "from flask import Flask\n",
        "\n",
        "app = Flask(__name__)\n",
        "\n",
        "@app.route('/')\n",
        "def hello():\n",
        "    return 'Hello, World!'\n",
        "\n",
        "if __name__ == '__main__':\n",
        "    app.run()\n"
      ],
      "metadata": {
        "id": "nnejSzXqukDI",
        "colab": {
          "base_uri": "https://localhost:8080/"
        },
        "collapsed": true,
        "outputId": "3b39f752-e2c8-455e-87e9-57e5a9ef8bc0"
      },
      "execution_count": 1,
      "outputs": [
        {
          "output_type": "stream",
          "name": "stdout",
          "text": [
            " * Serving Flask app '__main__'\n",
            " * Debug mode: off\n"
          ]
        },
        {
          "output_type": "stream",
          "name": "stderr",
          "text": [
            "INFO:werkzeug:\u001b[31m\u001b[1mWARNING: This is a development server. Do not use it in a production deployment. Use a production WSGI server instead.\u001b[0m\n",
            " * Running on http://127.0.0.1:5000\n",
            "INFO:werkzeug:\u001b[33mPress CTRL+C to quit\u001b[0m\n"
          ]
        }
      ]
    },
    {
      "cell_type": "code",
      "source": [
        "#Q2.How do you serve static files like images or CSS in Flask\n",
        "'''Place static files (CSS, images, JS, etc.) inside a folder called static at your project’s root.\n",
        "\n",
        "In your HTML, link like this: <img src=\"{{ url_for('static', filename='logo.png') }}\">\n",
        "\n",
        "Flask will serve files from /static/<filename> automatically.'''"
      ],
      "metadata": {
        "id": "RQgQIW_xCL_u"
      },
      "execution_count": null,
      "outputs": []
    },
    {
      "cell_type": "code",
      "source": [
        "#Q3. How do you define different routes with different HTTP methods in Flask\n",
        "from flask import Flask, request\n",
        "\n",
        "app = Flask(__name__)\n",
        "\n",
        "@app.route('/item', methods=['GET'])\n",
        "def get_item():\n",
        "    return 'Get an item'\n",
        "\n",
        "@app.route('/item', methods=['POST'])\n",
        "def create_item():\n",
        "    return 'Create an item'\n",
        "\n",
        "#or use one route with logic\n",
        "\n",
        "@app.route('/items', methods=['GET', 'POST'])\n",
        "def items():\n",
        "    if request.method == 'GET':\n",
        "        return 'Getting items'\n",
        "    else:\n",
        "        return 'Creating item'\n",
        "\n"
      ],
      "metadata": {
        "id": "xkZk4Iq7CdNm"
      },
      "execution_count": null,
      "outputs": []
    },
    {
      "cell_type": "code",
      "source": [
        "#Q4.How do you render HTML templates in Flask\n",
        "#Place HTML files inside a templates folder.\n",
        "#Use render_template() to return them:\n",
        "from flask import render_template\n",
        "\n",
        "@app.route('/')\n",
        "def home():\n",
        "    return render_template('index.html')\n"
      ],
      "metadata": {
        "id": "PmpiS6ugClzR"
      },
      "execution_count": 2,
      "outputs": []
    },
    {
      "cell_type": "code",
      "source": [
        "#Q5. How can you generate URLs for routes in Flask using url_for\n",
        "from flask import url_for\n",
        "\n",
        "@app.route('/user/<username>')\n",
        "def show_user(username):\n",
        "    return f'User {username}'\n",
        "\n",
        "# Generate a URL for the above route:\n",
        "with app.test_request_context():\n",
        "    print(url_for('show_user', username='alice'))  # Output: /user/alice\n"
      ],
      "metadata": {
        "id": "upNWUbneCtFl"
      },
      "execution_count": null,
      "outputs": []
    },
    {
      "cell_type": "code",
      "source": [
        "#Q6.How do you handle forms in Flask\n",
        "from flask import request\n",
        "\n",
        "@app.route('/login', methods=['GET', 'POST'])\n",
        "def login():\n",
        "    if request.method == 'POST':\n",
        "        user = request.form['username']\n",
        "        return f'Hello, {user}'\n",
        "    return render_template('login.html')\n"
      ],
      "metadata": {
        "id": "Z6uRZ98YCx5x"
      },
      "execution_count": null,
      "outputs": []
    },
    {
      "cell_type": "code",
      "source": [
        "#Q7.How can you validate form data in Flask\n",
        "if '@' not in request.form['email']:\n",
        "    return 'Invalid email'\n"
      ],
      "metadata": {
        "id": "0k7xM913C4ng"
      },
      "execution_count": null,
      "outputs": []
    },
    {
      "cell_type": "code",
      "source": [
        "#Q8 How do you manage sessions in Flask\n",
        "from flask import session\n",
        "\n",
        "app.secret_key = 'your_secret_key'\n",
        "\n",
        "@app.route('/set/')\n",
        "def set_session():\n",
        "    session['username'] = 'bob'\n",
        "    return 'Session set'\n",
        "\n",
        "@app.route('/get/')\n",
        "def get_session():\n",
        "    user = session.get('username')\n",
        "    return f'Logged in as {user}'\n"
      ],
      "metadata": {
        "id": "8i8lMLGGDEXr"
      },
      "execution_count": null,
      "outputs": []
    },
    {
      "cell_type": "code",
      "source": [
        "#Q9. How do you redirect to a different route in Flask\n",
        "from flask import redirect, url_for\n",
        "\n",
        "@app.route('/go-home/')\n",
        "def go_home():\n",
        "    return redirect(url_for('home'))\n"
      ],
      "metadata": {
        "id": "h-ZWXXbQDJx5"
      },
      "execution_count": null,
      "outputs": []
    },
    {
      "cell_type": "code",
      "source": [
        "#Q10. How do you handle errors in Flask (e.g., 404)\n",
        "from flask import jsonify\n",
        "\n",
        "@app.errorhandler(404)\n",
        "def page_not_found(e):\n",
        "    return jsonify(error=\"Page not found\"), 404\n"
      ],
      "metadata": {
        "id": "6Tuw76P3DNf6"
      },
      "execution_count": null,
      "outputs": []
    },
    {
      "cell_type": "code",
      "source": [
        "#Q11. How do you structure a Flask app using Blueprints\n",
        "from flask import Blueprint\n",
        "\n",
        "simple_bp = Blueprint('simple', __name__)\n",
        "\n",
        "@simple_bp.route('/hello')\n",
        "def hello():\n",
        "    return \"Hello from blueprint!\"\n",
        "#app.register_blueprint(simple_bp)\n",
        "\n"
      ],
      "metadata": {
        "id": "qGvuMiL8DSAI"
      },
      "execution_count": null,
      "outputs": []
    },
    {
      "cell_type": "code",
      "source": [
        "#Q12. How do you define a custom Jinja filter in Flask\n",
        "\n",
        "from flask import Flask\n",
        "\n",
        "app = Flask(__name__)\n",
        "\n",
        "# Using the decorator\n",
        "@app.template_filter('reverse')\n",
        "def reverse_filter(s):\n",
        "    return s[::-1]\n",
        "\n",
        "# Or by direct assignment:\n",
        "def upper_case(s):\n",
        "    return s.upper()\n",
        "app.jinja_env.filters['upper_case'] = upper_case\n"
      ],
      "metadata": {
        "id": "tvRp5KLwDYeW"
      },
      "execution_count": null,
      "outputs": []
    },
    {
      "cell_type": "code",
      "source": [
        "#Q13 How can you redirect with query parameters in Flask\n",
        "from flask import redirect, url_for\n",
        "\n",
        "@app.route('/start')\n",
        "def start():\n",
        "    return redirect(url_for('result', status='ok'))\n",
        "\n",
        "@app.route('/result')\n",
        "def result():\n",
        "    status = request.args.get('status')\n",
        "    return f'Status is {status}'\n",
        "\n"
      ],
      "metadata": {
        "id": "1yH0ARZIEiLI"
      },
      "execution_count": null,
      "outputs": []
    },
    {
      "cell_type": "code",
      "source": [
        "#Q14. How do you return JSON responses in Flask\n",
        "from flask import jsonify\n",
        "\n",
        "@app.route('/api/data')\n",
        "def data():\n",
        "    return jsonify({'key': 'value'})\n",
        "\n"
      ],
      "metadata": {
        "id": "XIicqtlAEo_Y"
      },
      "execution_count": null,
      "outputs": []
    },
    {
      "cell_type": "code",
      "source": [
        "#Q15. How do you capture URL parameters in Flask?\n",
        "@app.route('/user/<username>')\n",
        "def user_profile(username):\n",
        "    return f'Hello, {username}'\n"
      ],
      "metadata": {
        "id": "VFeKie0CEtaU"
      },
      "execution_count": null,
      "outputs": []
    }
  ]
}
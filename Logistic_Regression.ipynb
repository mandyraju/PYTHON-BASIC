{
  "nbformat": 4,
  "nbformat_minor": 0,
  "metadata": {
    "colab": {
      "provenance": []
    },
    "kernelspec": {
      "name": "python3",
      "display_name": "Python 3"
    },
    "language_info": {
      "name": "python"
    }
  },
  "cells": [
    {
      "cell_type": "markdown",
      "source": [
        "Question 1: What is Logistic Regression, and how does it differ from Linear\n",
        "Regression?\n",
        "\n",
        "Answer:Logistic Regression is a supervised machine learning algorithm used for classification tasks, predicting the probability that an input belongs to a particular class, often binary (0 or 1). It differs from Linear Regression, which predicts continuous numeric values, by using the sigmoid function to output probabilities instead of a straight line.\n",
        "\n",
        "Question 2: Explain the role of the Sigmoid function in Logistic Regression.\n",
        "\n",
        "Answer:\n",
        "The sigmoid function, also called the logistic function, transforms the linear combination of features into a value between 0 and 1, representing probability. It creates the characteristic S-shaped curve and ensures outputs are interpretable as probabilities, crucial for classification.\n",
        "\n",
        "Question 3: What is Regularization in Logistic Regression and why is it needed?\n",
        "\n",
        "Answer:\n",
        "Regularization is a technique to prevent overfitting by penalizing large coefficients in the model. In Logistic Regression, it helps the model generalize better to new, unseen data by discouraging complex solutions that fit noise in the training set, often using L1 (Lasso) or L2 (Ridge) penalties.\n",
        "\n",
        "Question 4: What are some common evaluation metrics for classification models, and\n",
        "why are they important?\n",
        "\n",
        "Answer:Common metrics are accuracy, precision, recall, F1-score, and ROC-AUC. These metrics are crucial because they provide different perspectives on model performance, particularly for imbalanced datasets – accuracy might be misleading when classes are unequal, so F1 or AUC are often more informative\n",
        "\n"
      ],
      "metadata": {
        "id": "WS3_aPJHnKTf"
      }
    },
    {
      "cell_type": "code",
      "execution_count": 1,
      "metadata": {
        "colab": {
          "base_uri": "https://localhost:8080/"
        },
        "id": "86el68EvmD0F",
        "outputId": "9f7cc1d7-71f9-4bb8-9a3f-7b2afa4d7398"
      },
      "outputs": [
        {
          "output_type": "stream",
          "name": "stdout",
          "text": [
            "Accuracy: 1.0\n"
          ]
        }
      ],
      "source": [
        "#Question 5: Write a Python program that loads a CSV file into a Pandas DataFrame,\n",
        "#splits into train/test sets, trains a Logistic Regression model, and prints its accuracy.\n",
        "#(Use Dataset from sklearn package)\n",
        "\n",
        "#Answer:\n",
        "\n",
        "import pandas as pd\n",
        "from sklearn.datasets import load_iris\n",
        "from sklearn.linear_model import LogisticRegression\n",
        "from sklearn.model_selection import train_test_split\n",
        "\n",
        "\n",
        "data = load_iris()\n",
        "X = pd.DataFrame(data.data, columns=data.feature_names)\n",
        "y = pd.Series(data.target)\n",
        "\n",
        "\n",
        "X_train, X_test, y_train, y_test = train_test_split(X, y, test_size=0.2, random_state=42)\n",
        "\n",
        "model = LogisticRegression(max_iter=200)\n",
        "model.fit(X_train, y_train)\n",
        "\n",
        "# Accuracy\n",
        "accuracy = model.score(X_test, y_test)\n",
        "print(\"Accuracy:\", accuracy)\n"
      ]
    },
    {
      "cell_type": "code",
      "source": [
        "#Question 6: Write a Python program to train a Logistic Regression model using L2\n",
        "#regularization (Ridge) and print the model coefficients and accuracy.\n",
        "#(Use Dataset from sklearn package)\n",
        "\n",
        "#Answer\n",
        "\n",
        "model_l2 = LogisticRegression(penalty='l2', max_iter=200)\n",
        "model_l2.fit(X_train, y_train)\n",
        "\n",
        "print(\"Coefficients:\", model_l2.coef_)\n",
        "print(\"Accuracy:\", model_l2.score(X_test, y_test))\n"
      ],
      "metadata": {
        "colab": {
          "base_uri": "https://localhost:8080/"
        },
        "id": "3P5lGjwYpz4m",
        "outputId": "16f99606-65db-481f-a4cd-b33dd157e525"
      },
      "execution_count": 2,
      "outputs": [
        {
          "output_type": "stream",
          "name": "stdout",
          "text": [
            "Coefficients: [[-0.39345607  0.96251768 -2.37512436 -0.99874594]\n",
            " [ 0.50843279 -0.25482714 -0.21301129 -0.77574766]\n",
            " [-0.11497673 -0.70769055  2.58813565  1.7744936 ]]\n",
            "Accuracy: 1.0\n"
          ]
        }
      ]
    },
    {
      "cell_type": "code",
      "source": [
        "#Question 8: Write a Python program to apply GridSearchCV to tune C and penalty\n",
        "#hyperparameters for Logistic Regression and print the best parameters and validation\n",
        "#accuracy.\n",
        "#(Use Dataset from sklearn package)\n",
        "\n",
        "from sklearn.model_selection import GridSearchCV\n",
        "\n",
        "param_grid = {\n",
        "    'C': [0.01, 0.1, 1, 10],\n",
        "    'penalty': ['l1', 'l2'],\n",
        "    'solver': ['liblinear']\n",
        "}\n",
        "grid = GridSearchCV(LogisticRegression(max_iter=200), param_grid, cv=5)\n",
        "grid.fit(X_train, y_train)\n",
        "\n",
        "print(\"Best Parameters:\", grid.best_params_)\n",
        "print(\"Validation Accuracy:\", grid.best_score_)\n",
        "\n"
      ],
      "metadata": {
        "colab": {
          "base_uri": "https://localhost:8080/"
        },
        "id": "8rNZy5F3qCwL",
        "outputId": "34e1d6ea-ee07-409d-a306-ac74d343d6e2"
      },
      "execution_count": 3,
      "outputs": [
        {
          "output_type": "stream",
          "name": "stdout",
          "text": [
            "Best Parameters: {'C': 10, 'penalty': 'l1', 'solver': 'liblinear'}\n",
            "Validation Accuracy: 0.9583333333333334\n"
          ]
        }
      ]
    },
    {
      "cell_type": "code",
      "source": [
        "#Question 9: Write a Python program to standardize the features before training Logistic\n",
        "#egression and compare the model's accuracy with and without scaling.\n",
        "#(Use Dataset from sklearn package)\n",
        "\n",
        "from sklearn.preprocessing import StandardScaler\n",
        "\n",
        "# Without scaling\n",
        "model_no_scaling = LogisticRegression(max_iter=200)\n",
        "model_no_scaling.fit(X_train, y_train)\n",
        "acc_no_scaling = model_no_scaling.score(X_test, y_test)\n",
        "\n",
        "# With scaling\n",
        "scaler = StandardScaler()\n",
        "X_train_scaled = scaler.fit_transform(X_train)\n",
        "X_test_scaled = scaler.transform(X_test)\n",
        "\n",
        "model_scaling = LogisticRegression(max_iter=200)\n",
        "model_scaling.fit(X_train_scaled, y_train)\n",
        "acc_scaling = model_scaling.score(X_test_scaled, y_test)\n",
        "\n",
        "print(\"Accuracy without scaling:\", acc_no_scaling)\n",
        "print(\"Accuracy with scaling:\", acc_scaling)\n",
        "\n"
      ],
      "metadata": {
        "colab": {
          "base_uri": "https://localhost:8080/"
        },
        "id": "WLFqfCKhqckz",
        "outputId": "8290769c-f46b-4460-da62-30f34174fc40"
      },
      "execution_count": 4,
      "outputs": [
        {
          "output_type": "stream",
          "name": "stdout",
          "text": [
            "Accuracy without scaling: 1.0\n",
            "Accuracy with scaling: 1.0\n"
          ]
        }
      ]
    },
    {
      "cell_type": "code",
      "source": [
  
        "\n",
        "\n"
      ],
      "metadata": {
        "id": "KZjqvjJQqktV"
      },
      "execution_count": null,
      "outputs": []
    },
    {
      "cell_type": "markdown",
      "source": [
        "\n",
        "\n",
        "Question 10: Imagine you are working at an e-commerce company that wants to\n",
        "predict which customers will respond to a marketing campaign. Given an imbalanced\n",
        "dataset (only 5% of customers respond), describe the approach you’d take to build a\n",
        "Logistic Regression model — including data handling, feature scaling, balancing\n",
        "classes, hyperparameter tuning, and evaluating the model for this real-world business\n",
        "use case.\n",
        "\n",
        "\n",
        "Answer:\n",
        "For an imbalanced dataset (5% response rate):\n",
        "\n",
        "Data Handling: Use techniques like stratified sampling and treat missing data carefully.\n",
        "\n",
        "Feature Scaling: Apply scaling methods for better model convergence.\n",
        "\n",
        "Balancing Classes: Use resampling (oversample minority or undersample majority), or algorithms like SMOTE.\n",
        "\n",
        "Hyperparameter Tuning: Tune parameters (e.g., C, penalty) using GridSearchCV to optimize for recall or F1-score, not just accuracy.\n",
        "\n",
        "Evaluation: Prefer metrics like ROC-AUC, precision, recall, and F1-score to correctly assess model performance on minority (responding) class.\n",
        "\n",
        "This ensures a reliable and business-relevant solution for predicting customer responses in real-world e-commerce.\n",
        "\n"
      ],
      "metadata": {
        "id": "qJM_8xREq2bG"
      }
    }
  ]
}

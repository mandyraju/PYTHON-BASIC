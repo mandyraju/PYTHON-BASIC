{
  "nbformat": 4,
  "nbformat_minor": 0,
  "metadata": {
    "colab": {
      "provenance": []
    },
    "kernelspec": {
      "name": "python3",
      "display_name": "Python 3"
    },
    "language_info": {
      "name": "python"
    }
  },
  "cells": [
    {
      "cell_type": "markdown",
      "source": [
        "Python OOPs Questions\n",
        "\n",
        "Q1. What is Object-Oriented Programming (OOP)?\n",
        "\n",
        "Ans. object Oriented programing is a progrmming paradigm based on the concept\n",
        "\n",
        " of object which can contain data (attributes ) and code ( method ) that\n",
        "\n",
        " operate on the data . it helps to prevent from reaptition of the code.\n",
        "\n",
        " Key principles include encapsulation, inheritance, and polymorphism.\n",
        "\n",
        " Q2. What is a class in OOP?\n",
        "\n",
        " Ans. A class is a blue print or a template for creating objects. it defines the behavior and structure ( attributes and method ) that object of that class will possess.\n",
        "\n",
        " Q3. What is an object in OOP?\n",
        "\n",
        " Ans. An object in oops is an instance of a class. it is concrete entity created from a class blueprint, possessing the attributes and behaviour defined by the class.\n",
        "\n",
        " Q4.What is the difference between abstraction and encapsulation?\n",
        "\n",
        " Ans. abstractoion\n",
        "\n",
        " focuses on showing only essential information and hiding complex implementation details. it deals with what a data does.\n",
        "\n",
        " Encapsulation\n",
        "\n",
        " is the bundling of data  and the methods that operates on that data on the data within a single unit. it deals with how data and method are protected and accessed\n",
        "\n",
        " Q5. What are dunder methods in Python?\n",
        "\n",
        " Ans. Dunder methods, also known as magic method, are special methods, in python that have dounle underscores__ at the benninning and end of their names( e.g. __init__) they allow us to define how objets of our class behave in certian situation, such as initialization, sting prepresntation etc.\n",
        "\n",
        " Q6.  Explain the concept of inheritance in OOP.\n",
        "\n",
        " Ans. Inheritance allows a class (child or subclass) to acquire attribute and methods from another class (parent or superclass), promoting code reuse and hierachical relationship\n",
        "\n",
        " Q 7. What is polymorphism in OOP?\n",
        "\n",
        " Ans. polymorphism allow objects of different classes to be treated as object of a common superclass. It enable the same method name to behave differentely based on the object's class\n",
        "\n",
        " Q 8. How is encapsulation achieved in Python?\n",
        "\n",
        " Ans. Encapsulation in python is achieved by defining class attributes as private (using a leading underscore ) and providig public meyhods to access or modify them.\n",
        "\n",
        " Q9. What is a constructor in Python?\n",
        "\n",
        " Ans. A constructor is the __init__ method in a class automatically called when a new object is created to intialize its attributes.\n",
        "\n",
        " Q 10. What are class and static methods in Python?\n",
        "\n",
        " ANs.class methods use the (@classmethod) decorator and receive the (cls) as the first argument; they can modify class state\n",
        "\n",
        " static method use the @staticmethod decorator and do not receive an implicit first argument; they behave like regular functions but belong to the class 's namespace  \n",
        "\n",
        " Q11. What is method overloading in Python?\n",
        "\n",
        " Ans. python does not support traditional method overloading ( multiple methods with the same name but different signature). instead you can use default argument or variable lenght argument to achieve behavior\n",
        "\n",
        " Q 12. What is method overriding in OOP?\n",
        "\n",
        " ans.  Method overriding occurs when a subclass provides a specific implementation of a method\n",
        " already defined in its superclass, replacing the parent's version for instances of the subclass\n",
        "\n",
        " Q13.  What is a property decorator in Python?\n",
        "\n",
        " Ans.The @property decorator allows you to define methods in a class that can be accessed like attributes, enabling controlled access to private data\n",
        "\n",
        " Q14  Why is polymorphism important in OOP?\n",
        "\n",
        " Ans. Polymorphism enables code flexibility and reusability, allowing functions and methods to operate on objects of different types as long as they share a common interface\n",
        "\n",
        " Q15. What is an abstract class in Python?\n",
        "\n",
        " ans.An abstract class is a class that cannot be instantiated and is meant to be subclassed. It often contains one or more abstract methods that must be implemented by subclasses. In Python, you use the abc module to define abstract classes.\n",
        "\n",
        " Q16.  What are the advantages of OOP?\n",
        "\n",
        " Ans. Improved code reusability via inheritance\n",
        "\n",
        " Easier maintenance and scalability\n",
        "\n",
        " Encapsulation for data protection\n",
        "\n",
        " Abstraction for managing complexity\n",
        "\n",
        " Polymorphism for flexible and extensible code\n",
        "\n",
        " Q 17. What is the difference between a class variable and an instance variable?\n",
        "\n",
        " Ans. Class variable: Shared across all instances of the class.\n",
        "\n",
        " Instance variable: Unique to each object instance\n",
        "\n",
        " Q18. What is multiple inheritance in Python?\n",
        "\n",
        " Ans. Multiple inheritance allows a class to inherit from more than one parent class, combining their attributes and methods\n",
        "\n",
        " Q19. Explain the purpose of __str__ and __repr__methods in Python\n",
        "\n",
        "Ans. __str__\n",
        " : Returns a human-readable string representation of an object, used by\n",
        "print()\n",
        " .\n",
        " __repr__\n",
        " : Returns an unambiguous string representation, ideally one that can recreate the object, used by repr() and in debugging.\n",
        "\n",
        " Q20. What is the significance of the super() function in Python?\n",
        "\n",
        " Ans. super() allows you to call methods from a parent or sibling class, commonly used to extend or modify inherited behavior in subclasses\n",
        "\n",
        " Q21. What is the significance of the __del__ method in Python?\n",
        "\n",
        " Ans.method is a destructor, called when an object is about to be destroyed. It is used for cleanup actions, such as releasing resources, but its use is generally discouraged in favor of context managers due to unpredictability in garbage collection\n",
        "\n",
        " Q22. What is the difference between @staticmethod and @classmethod in Python\n",
        "\n",
        " Ans. @staticmethod defines a method that does not access or modify class or instance state. It behaves like a regular function but is placed in the class for organizational purposes.\n",
        "\n",
        "@classmethod receives the class (cls) as its first argument and can access or modify class-level data. It is often used for operations that affect the class as a whole, such as alternative constructors or modifying class variables\n",
        "\n",
        "Q23. How does polymorphism work in Python with inheritance?\n",
        "\n",
        "ans. Polymorphism in Python allows objects of different classes to be treated as objects of a common superclass.\n",
        "\n",
        "Q24. What is method chaining in Python OOP?\n",
        "\n",
        "ans. Method chaining is a technique where multiple methods are called sequentially on the same object in a single line. This is achieved by having each method return self (the object itself), allowing subsequent method calls\n",
        "\n",
        "Q25. What is the purpose of the __call__ method in Python?\n",
        "\n",
        "ans. The __call__ method allows an instance of a class to be called as if it were a function. By defining __call__, you can make objects behave like callable functions.\n"
      ],
      "metadata": {
        "id": "tdjWhUm5_BLK"
      }
    },
    {
      "cell_type": "code",
      "source": [
        "#practical questions\n",
        "#Q.1. 1. Create a parent class Animal with a method speak() that prints a generic message. Create a child class Dog\n",
        "#that overrides the speak() method to print \"Bark!\".\n",
        "#Ans.\n",
        "class Animal:\n",
        "    def speak(self):\n",
        "        print(\"Generic animal sound\")\n",
        "\n",
        "class Dog(Animal):\n",
        "    def speak(self):\n",
        "        print(\"Bark!\")\n"
      ],
      "metadata": {
        "id": "UMtj3vu5B924"
      },
      "execution_count": 1,
      "outputs": []
    },
    {
      "cell_type": "code",
      "source": [
        "obj1 = Dog()\n",
        "obj1.speak()"
      ],
      "metadata": {
        "colab": {
          "base_uri": "https://localhost:8080/"
        },
        "id": "HMtpw4g2vHuN",
        "outputId": "9556ab95-5cb7-4952-f20a-61398a31838b"
      },
      "execution_count": 6,
      "outputs": [
        {
          "output_type": "stream",
          "name": "stdout",
          "text": [
            "Bark!\n"
          ]
        }
      ]
    },
    {
      "cell_type": "code",
      "source": [
        "#Q2. Write a program to create an abstract class Shape with a method area(). Derive classes Circle and Rectangle\n",
        "#from it and implement the area() method in both.\n",
        "#Ans.\n",
        "from abc import ABC, abstractmethod\n",
        "\n",
        "class Shape(ABC):\n",
        "    @abstractmethod\n",
        "    def area(self):\n",
        "        pass\n",
        "\n",
        "class Circle(Shape):\n",
        "    def __init__(self, radius):\n",
        "        self.radius = radius\n",
        "    def area(self):\n",
        "        return 3.14159 * self.radius ** 2\n",
        "\n",
        "class Rectangle(Shape):\n",
        "    def __init__(self, width, height):\n",
        "        self.width = width\n",
        "        self.height = height\n",
        "    def area(self):\n",
        "        return self.width * self.height\n"
      ],
      "metadata": {
        "id": "r56E7h1mvToq"
      },
      "execution_count": 7,
      "outputs": []
    },
    {
      "cell_type": "code",
      "source": [
        "#3. Implement a multi-level inheritance scenario where a class Vehicle has an attribute type. Derive a class Car\n",
        "#and further derive a class ElectricCar that adds a battery attribute.\n",
        "#Ans.\n",
        "class Vehicle:\n",
        "    def __init__(self, type):\n",
        "        self.type = type\n",
        "\n",
        "class Car(Vehicle):\n",
        "    def __init__(self, type, brand):\n",
        "        super().__init__(type)\n",
        "        self.brand = brand\n",
        "\n",
        "class ElectricCar(Car):\n",
        "    def __init__(self, type, brand, battery):\n",
        "        super().__init__(type, brand)\n",
        "        self.battery = battery\n"
      ],
      "metadata": {
        "id": "CYz41N65xdSK"
      },
      "execution_count": 8,
      "outputs": []
    },
    {
      "cell_type": "code",
      "source": [
        "#4. Demonstrate polymorphism by creating a base class Bird with a method fly(). Create two derived classes\n",
        "#Sparrow and Penguin that override the fly() method.\n",
        "#Ans.\n",
        "class bird:\n",
        "  def fly(self):\n",
        "    print(\"Birds can fly\")\n",
        "class sparrow(bird):\n",
        "  def fly(self):\n",
        "    print(\"sparrow can fly\")\n",
        "class penguin(bird):\n",
        "  def fly(self):\n",
        "     print(\"penguin cannot fly\")\n",
        "\n"
      ],
      "metadata": {
        "id": "f54BH06hynTX"
      },
      "execution_count": 11,
      "outputs": []
    },
    {
      "cell_type": "code",
      "source": [
        "#5. Write a program to demonstrate encapsulation by creating a class BankAccount with private attributes\n",
        "#balance and methods to deposit, withdraw, and check balance.\n",
        "#Ans.\n",
        "class BankAccount:\n",
        "    def __init__(self, balance=0):\n",
        "        self.__balance = balance\n",
        "\n",
        "    def deposit(self, amount):\n",
        "        if amount > 0:\n",
        "            self.__balance += amount\n",
        "\n",
        "    def withdraw(self, amount):\n",
        "        if 0 < amount <= self.__balance:\n",
        "            self.__balance -= amount\n",
        "\n",
        "    def check_balance(self):\n",
        "        return self.__balance\n"
      ],
      "metadata": {
        "id": "aJCGIKMe0pPD"
      },
      "execution_count": 12,
      "outputs": []
    },
    {
      "cell_type": "code",
      "source": [
        "#6. Demonstrate runtime polymorphism using a method play() in a base class Instrument. Derive classes Guitar\n",
        "#and Piano that implement their own version of play().\n",
        "#ans.\n",
        "class Instrument:\n",
        "    def play(self):\n",
        "        print(\"Playing an instrument.\")\n",
        "\n",
        "class Guitar(Instrument):\n",
        "    def play(self):\n",
        "        print(\"Strumming the guitar.\")\n",
        "\n",
        "class Piano(Instrument):\n",
        "    def play(self):\n",
        "        print(\"Playing the piano.\")\n"
      ],
      "metadata": {
        "id": "1U2sbUTs37-J"
      },
      "execution_count": 13,
      "outputs": []
    },
    {
      "cell_type": "code",
      "source": [
        "#7. 7. Create a class MathOperations with a class method add_numbers() to add two numbers and a static\n",
        "#method subtract_numbers() to subtract two numbers.\n",
        "#Ans.\n",
        "class MathOperations:\n",
        "    @classmethod\n",
        "    def add_numbers(cls, a, b):\n",
        "        return a + b\n",
        "\n",
        "    @staticmethod\n",
        "    def subtract_numbers(a, b):\n",
        "        return a - b\n"
      ],
      "metadata": {
        "id": "-iNpMXDS4k_0"
      },
      "execution_count": 14,
      "outputs": []
    },
    {
      "cell_type": "code",
      "source": [
        "#8. Implement a class Person with a class method to count the total number of persons created.\n",
        "#Ans.\n",
        "class Person:\n",
        "    count = 0\n",
        "\n",
        "    def __init__(self, name):\n",
        "        self.name = name\n",
        "        Person.count += 1\n",
        "\n",
        "    @classmethod\n",
        "    def total_persons(cls):\n",
        "        return cls.count\n"
      ],
      "metadata": {
        "id": "79h0ZD505m8m"
      },
      "execution_count": 15,
      "outputs": []
    },
    {
      "cell_type": "code",
      "source": [
        "#9. Write a class Fraction with attributes numerator and denominator. Override the str method to display the\n",
        "#fraction as \"numerator/denominator\".\n",
        "#Ans.\n",
        "class Fraction:\n",
        "    def __init__(self, numerator, denominator):\n",
        "        self.numerator = numerator\n",
        "        self.denominator = denominator\n",
        "\n",
        "    def __str__(self):\n",
        "        return f\"{self.numerator}/{self.denominator}\"\n"
      ],
      "metadata": {
        "id": "JmyAj7Ju5xTN"
      },
      "execution_count": 16,
      "outputs": []
    },
    {
      "cell_type": "code",
      "source": [
        "#10.  Demonstrate operator overloading by creating a class Vector and overriding the add method to add two\n",
        "#vectors.\n",
        "#Ans.\n",
        "class Vector:\n",
        "    def __init__(self, x, y):\n",
        "        self.x = x\n",
        "        self.y = y\n",
        "\n",
        "    def __add__(self, other):\n",
        "        return Vector(self.x + other.x, self.y + other.y)\n",
        "\n",
        "    def __str__(self):\n",
        "        return f\"Vector({self.x}, {self.y})\"\n"
      ],
      "metadata": {
        "id": "7T_LqCUb6C8U"
      },
      "execution_count": 17,
      "outputs": []
    },
    {
      "cell_type": "code",
      "source": [
        "#11. Create a class Person with attributes name and age. Add a method greet() that prints \"Hello, my name is\n",
        "#{name} and I am {age} years old.\"\n",
        "#Ans.\n",
        "class Person:\n",
        "    def __init__(self, name, age):\n",
        "        self.name = name\n",
        "        self.age = age\n",
        "\n",
        "    def greet(self):\n",
        "        print(f\"Hello, my name is {self.name} and I am {self.age} years old.\")\n"
      ],
      "metadata": {
        "id": "raP5JyNk6Q66"
      },
      "execution_count": 18,
      "outputs": []
    },
    {
      "cell_type": "code",
      "source": [
        "#12. Implement a class Student with attributes name and grades. Create a method average_grade() to compute\n",
        "#the average of the grades.\n",
        "#Ans.\n",
        "class Student:\n",
        "    def __init__(self, name, grades):\n",
        "        self.name = name\n",
        "        self.grades = grades\n",
        "\n",
        "    def average_grade(self):\n",
        "        return sum(self.grades) / len(self.grades)\n"
      ],
      "metadata": {
        "id": "5d5z0bSp7Grc"
      },
      "execution_count": 19,
      "outputs": []
    },
    {
      "cell_type": "code",
      "source": [
        "#13. Create a class Rectangle with methods set_dimensions() to set the dimensions and area() to calculate the\n",
        "#area.\n",
        "#Ans.\n",
        "class Rectangle:\n",
        "    def set_dimensions(self, width, height):\n",
        "        self.width = width\n",
        "        self.height = height\n",
        "\n",
        "    def area(self):\n",
        "        return self.width * self.height\n"
      ],
      "metadata": {
        "id": "Te0eCt1377Lq"
      },
      "execution_count": 20,
      "outputs": []
    },
    {
      "cell_type": "code",
      "source": [
        "#14. Create a class Employee with a method calculate_salary() that computes the salary based on hours worked\n",
        "#and hourly rate. Create a derived class Manager that adds a bonus to the salary.\n",
        "#Ans.\n",
        "class Employee:\n",
        "    def calculate_salary(self, hours_worked, hourly_rate):\n",
        "        return hours_worked * hourly_rate\n",
        "\n",
        "class Manager(Employee):\n",
        "    def __init__(self, bonus):\n",
        "        self.bonus = bonus\n",
        "\n",
        "    def calculate_salary(self, hours_worked, hourly_rate):\n",
        "        base_salary = super().calculate_salary(hours_worked, hourly_rate)\n",
        "        return base_salary + self.bonus\n"
      ],
      "metadata": {
        "id": "HbgPPXhZ8NEq"
      },
      "execution_count": 21,
      "outputs": []
    },
    {
      "cell_type": "code",
      "source": [
        "#15. Create a class Product with attributes name, price, and quantity. Implement a method total_price() that\n",
        "#calculates the total price of the product.\n",
        "#Ans.\n",
        "class Product:\n",
        "    def __init__(self, name, price, quantity):\n",
        "        self.name = name\n",
        "        self.price = price\n",
        "        self.quantity = quantity\n",
        "\n",
        "    def total_price(self):\n",
        "        return self.price * self.quantity\n",
        "\n"
      ],
      "metadata": {
        "id": "YSQM_9c-AxV5"
      },
      "execution_count": 22,
      "outputs": []
    },
    {
      "cell_type": "code",
      "source": [
        "#16. Create a class Animal with an abstract method sound(). Create two derived classes Cow and Sheep that\n",
        "#implement the sound() method.\n",
        "#Ans.\n",
        "from abc import ABC, abstractmethod\n",
        "\n",
        "class Animal(ABC):\n",
        "    @abstractmethod\n",
        "    def sound(self):\n",
        "        pass\n",
        "\n",
        "class Cow(Animal):\n",
        "    def sound(self):\n",
        "        return \"Moo\"\n",
        "\n",
        "class Sheep(Animal):\n",
        "    def sound(self):\n",
        "        return \"Baa\"\n"
      ],
      "metadata": {
        "id": "YjSx_WYpMJTJ"
      },
      "execution_count": 24,
      "outputs": []
    },
    {
      "cell_type": "code",
      "source": [
        "cow = Cow()\n",
        "print(cow.sound())\n",
        "sheep = Sheep()\n",
        "print(sheep.sound())\n"
      ],
      "metadata": {
        "colab": {
          "base_uri": "https://localhost:8080/"
        },
        "id": "swT1rLayMhwZ",
        "outputId": "24c8ae15-6936-4c09-cc96-bd08b030a4f5"
      },
      "execution_count": 25,
      "outputs": [
        {
          "output_type": "stream",
          "name": "stdout",
          "text": [
            "Moo\n",
            "Baa\n"
          ]
        }
      ]
    },
    {
      "cell_type": "code",
      "source": [
        "#17. Create a class Book with attributes title, author, and year_published. Add a method get_book_info() that\n",
        "#returns a formatted string with the book's details\n",
        "#Ans.\n",
        "class Book:\n",
        "    def __init__(self, title, author, year_published):\n",
        "        self.title = title\n",
        "        self.author = author\n",
        "        self.year_published = year_published\n",
        "\n",
        "    def get_book_info(self):\n",
        "        return f\"'{self.title}' by {self.author} ({self.year_published})\"\n",
        "\n"
      ],
      "metadata": {
        "id": "3SqQ0zKEMqax"
      },
      "execution_count": 26,
      "outputs": []
    },
    {
      "cell_type": "code",
      "source": [
        "b = Book(\"1984\", \"George Orwell\", 1949)\n",
        "print(b.get_book_info())  # Output: '1984' by George Orwell (1949)"
      ],
      "metadata": {
        "colab": {
          "base_uri": "https://localhost:8080/"
        },
        "id": "fKvji3LzM-4C",
        "outputId": "3cd20f3e-cac5-4706-e8d7-fa7c04ab63ac"
      },
      "execution_count": 27,
      "outputs": [
        {
          "output_type": "stream",
          "name": "stdout",
          "text": [
            "'1984' by George Orwell (1949)\n"
          ]
        }
      ]
    },
    {
      "cell_type": "code",
      "source": [
        "#18. Create a class House with attributes address and price. Create a derived class Mansion that adds an\n",
        "#attribute number_of_rooms.\n",
        "#Ans.\n",
        "class House:\n",
        "    def __init__(self, address, price):\n",
        "        self.address = address\n",
        "        self.price = price\n",
        "\n",
        "class Mansion(House):\n",
        "    def __init__(self, address, price, number_of_rooms):\n",
        "        super().__init__(address, price)\n",
        "        self.number_of_rooms = number_of_rooms\n",
        "\n"
      ],
      "metadata": {
        "id": "Y9KjsdYuNCma"
      },
      "execution_count": 28,
      "outputs": []
    },
    {
      "cell_type": "code",
      "source": [
        "m = Mansion(\"123 Luxury St\", 50000000, 10)\n",
        "print(m.address, m.price, m.number_of_rooms)"
      ],
      "metadata": {
        "colab": {
          "base_uri": "https://localhost:8080/"
        },
        "id": "uvmyp8mwNTKO",
        "outputId": "7cd48c92-3fef-44c8-b6d8-33e00aec2ed6"
      },
      "execution_count": 29,
      "outputs": [
        {
          "output_type": "stream",
          "name": "stdout",
          "text": [
            "123 Luxury St 50000000 10\n"
          ]
        }
      ]
    },
    {
      "cell_type": "code",
      "source": [],
      "metadata": {
        "id": "IVhS3w7UNcMV"
      },
      "execution_count": null,
      "outputs": []
    }
  ]
}